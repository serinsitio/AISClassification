{
  "nbformat": 4,
  "nbformat_minor": 0,
  "metadata": {
    "colab": {
      "provenance": []
    },
    "kernelspec": {
      "name": "python3",
      "display_name": "Python 3"
    },
    "language_info": {
      "name": "python"
    }
  },
  "cells": [
    {
      "cell_type": "code",
      "execution_count": null,
      "metadata": {
        "id": "AaSQFG706ccF"
      },
      "outputs": [],
      "source": [
        "# Setup setting terkait dengan plotting\n",
        "import pandas as pd\n",
        "import numpy as np                 # import numpy (mathematical operation)\n",
        "import matplotlib.pyplot as plt    # import package untuk plotting\n",
        "import scipy.optimize as opt       # import scipy untuk optimisasi weight\n",
        "import seaborn as sn               # import seaborn untuk plotting"
      ]
    },
    {
      "cell_type": "code",
      "source": [
        "#import dataset\n",
        "dataset = pd.read_csv('https://raw.githubusercontent.com/serensitio/asesmenclo23/main/dataset.csv')\n",
        "dataset"
      ],
      "metadata": {
        "colab": {
          "base_uri": "https://localhost:8080/",
          "height": 1000
        },
        "id": "ZEuRuP1LiFrX",
        "outputId": "7eb56d24-2503-4aea-bad7-0f0734f8792d"
      },
      "execution_count": null,
      "outputs": [
        {
          "output_type": "execute_result",
          "data": {
            "text/plain": [
              "           x         Y  LABEL\n",
              "0     1.0000  399.6550    1.0\n",
              "1     5.8293  428.5600    1.0\n",
              "2    10.6585  266.0618    1.0\n",
              "3    15.4878  376.9293    1.0\n",
              "4    20.3171  383.6759    1.0\n",
              "5    25.1463  463.8939    1.0\n",
              "6    29.9756  502.8094    1.0\n",
              "7    34.8049  536.4060    1.0\n",
              "8    39.6341  412.8075    1.0\n",
              "9    44.4634  553.9108    1.0\n",
              "10   49.2927  566.5294    1.0\n",
              "11   54.1220  438.7835    1.0\n",
              "12   58.9512  445.6993    1.0\n",
              "13   63.7805  579.5092    1.0\n",
              "14   68.6098  737.9232    1.0\n",
              "15   73.4390  572.1157    1.0\n",
              "16   78.2683  665.5803    1.0\n",
              "17   83.0976  577.1436    1.0\n",
              "18   87.9268  755.3801    1.0\n",
              "19   92.7561  626.5285    1.0\n",
              "20   97.5854  721.7871    1.0\n",
              "21   34.1460 -219.8153    2.0\n",
              "22   82.4390 -238.1807    2.0\n",
              "23   13.0732 -231.8583    2.0\n",
              "24   17.9024 -129.4431    2.0\n",
              "25   22.7317  -27.7249    2.0\n",
              "26   27.5610   -9.8588    2.0\n",
              "27   32.3902  -11.5017    2.0\n",
              "28   37.2195 -108.1435    2.0\n",
              "29   42.0488   29.1436    2.0\n",
              "30   46.8780  -62.8570    2.0\n",
              "31   51.7073   71.2950    2.0\n",
              "32   56.5366  -45.8527    2.0\n",
              "33   61.3659   90.0032    2.0\n",
              "34   66.1951  140.6809    2.0\n",
              "35   71.0244  149.7832    2.0\n",
              "36   75.8537   96.7911    2.0\n",
              "37   80.6829  145.3422    2.0\n",
              "38   85.5122  189.6681    2.0\n",
              "39   90.3415  113.8343    2.0\n",
              "40   95.1707  182.9472    2.0\n",
              "41  100.0000  210.0553    2.0"
            ],
            "text/html": [
              "\n",
              "  <div id=\"df-e71c39c9-6a76-4162-afba-15bad1f331b0\">\n",
              "    <div class=\"colab-df-container\">\n",
              "      <div>\n",
              "<style scoped>\n",
              "    .dataframe tbody tr th:only-of-type {\n",
              "        vertical-align: middle;\n",
              "    }\n",
              "\n",
              "    .dataframe tbody tr th {\n",
              "        vertical-align: top;\n",
              "    }\n",
              "\n",
              "    .dataframe thead th {\n",
              "        text-align: right;\n",
              "    }\n",
              "</style>\n",
              "<table border=\"1\" class=\"dataframe\">\n",
              "  <thead>\n",
              "    <tr style=\"text-align: right;\">\n",
              "      <th></th>\n",
              "      <th>x</th>\n",
              "      <th>Y</th>\n",
              "      <th>LABEL</th>\n",
              "    </tr>\n",
              "  </thead>\n",
              "  <tbody>\n",
              "    <tr>\n",
              "      <th>0</th>\n",
              "      <td>1.0000</td>\n",
              "      <td>399.6550</td>\n",
              "      <td>1.0</td>\n",
              "    </tr>\n",
              "    <tr>\n",
              "      <th>1</th>\n",
              "      <td>5.8293</td>\n",
              "      <td>428.5600</td>\n",
              "      <td>1.0</td>\n",
              "    </tr>\n",
              "    <tr>\n",
              "      <th>2</th>\n",
              "      <td>10.6585</td>\n",
              "      <td>266.0618</td>\n",
              "      <td>1.0</td>\n",
              "    </tr>\n",
              "    <tr>\n",
              "      <th>3</th>\n",
              "      <td>15.4878</td>\n",
              "      <td>376.9293</td>\n",
              "      <td>1.0</td>\n",
              "    </tr>\n",
              "    <tr>\n",
              "      <th>4</th>\n",
              "      <td>20.3171</td>\n",
              "      <td>383.6759</td>\n",
              "      <td>1.0</td>\n",
              "    </tr>\n",
              "    <tr>\n",
              "      <th>5</th>\n",
              "      <td>25.1463</td>\n",
              "      <td>463.8939</td>\n",
              "      <td>1.0</td>\n",
              "    </tr>\n",
              "    <tr>\n",
              "      <th>6</th>\n",
              "      <td>29.9756</td>\n",
              "      <td>502.8094</td>\n",
              "      <td>1.0</td>\n",
              "    </tr>\n",
              "    <tr>\n",
              "      <th>7</th>\n",
              "      <td>34.8049</td>\n",
              "      <td>536.4060</td>\n",
              "      <td>1.0</td>\n",
              "    </tr>\n",
              "    <tr>\n",
              "      <th>8</th>\n",
              "      <td>39.6341</td>\n",
              "      <td>412.8075</td>\n",
              "      <td>1.0</td>\n",
              "    </tr>\n",
              "    <tr>\n",
              "      <th>9</th>\n",
              "      <td>44.4634</td>\n",
              "      <td>553.9108</td>\n",
              "      <td>1.0</td>\n",
              "    </tr>\n",
              "    <tr>\n",
              "      <th>10</th>\n",
              "      <td>49.2927</td>\n",
              "      <td>566.5294</td>\n",
              "      <td>1.0</td>\n",
              "    </tr>\n",
              "    <tr>\n",
              "      <th>11</th>\n",
              "      <td>54.1220</td>\n",
              "      <td>438.7835</td>\n",
              "      <td>1.0</td>\n",
              "    </tr>\n",
              "    <tr>\n",
              "      <th>12</th>\n",
              "      <td>58.9512</td>\n",
              "      <td>445.6993</td>\n",
              "      <td>1.0</td>\n",
              "    </tr>\n",
              "    <tr>\n",
              "      <th>13</th>\n",
              "      <td>63.7805</td>\n",
              "      <td>579.5092</td>\n",
              "      <td>1.0</td>\n",
              "    </tr>\n",
              "    <tr>\n",
              "      <th>14</th>\n",
              "      <td>68.6098</td>\n",
              "      <td>737.9232</td>\n",
              "      <td>1.0</td>\n",
              "    </tr>\n",
              "    <tr>\n",
              "      <th>15</th>\n",
              "      <td>73.4390</td>\n",
              "      <td>572.1157</td>\n",
              "      <td>1.0</td>\n",
              "    </tr>\n",
              "    <tr>\n",
              "      <th>16</th>\n",
              "      <td>78.2683</td>\n",
              "      <td>665.5803</td>\n",
              "      <td>1.0</td>\n",
              "    </tr>\n",
              "    <tr>\n",
              "      <th>17</th>\n",
              "      <td>83.0976</td>\n",
              "      <td>577.1436</td>\n",
              "      <td>1.0</td>\n",
              "    </tr>\n",
              "    <tr>\n",
              "      <th>18</th>\n",
              "      <td>87.9268</td>\n",
              "      <td>755.3801</td>\n",
              "      <td>1.0</td>\n",
              "    </tr>\n",
              "    <tr>\n",
              "      <th>19</th>\n",
              "      <td>92.7561</td>\n",
              "      <td>626.5285</td>\n",
              "      <td>1.0</td>\n",
              "    </tr>\n",
              "    <tr>\n",
              "      <th>20</th>\n",
              "      <td>97.5854</td>\n",
              "      <td>721.7871</td>\n",
              "      <td>1.0</td>\n",
              "    </tr>\n",
              "    <tr>\n",
              "      <th>21</th>\n",
              "      <td>34.1460</td>\n",
              "      <td>-219.8153</td>\n",
              "      <td>2.0</td>\n",
              "    </tr>\n",
              "    <tr>\n",
              "      <th>22</th>\n",
              "      <td>82.4390</td>\n",
              "      <td>-238.1807</td>\n",
              "      <td>2.0</td>\n",
              "    </tr>\n",
              "    <tr>\n",
              "      <th>23</th>\n",
              "      <td>13.0732</td>\n",
              "      <td>-231.8583</td>\n",
              "      <td>2.0</td>\n",
              "    </tr>\n",
              "    <tr>\n",
              "      <th>24</th>\n",
              "      <td>17.9024</td>\n",
              "      <td>-129.4431</td>\n",
              "      <td>2.0</td>\n",
              "    </tr>\n",
              "    <tr>\n",
              "      <th>25</th>\n",
              "      <td>22.7317</td>\n",
              "      <td>-27.7249</td>\n",
              "      <td>2.0</td>\n",
              "    </tr>\n",
              "    <tr>\n",
              "      <th>26</th>\n",
              "      <td>27.5610</td>\n",
              "      <td>-9.8588</td>\n",
              "      <td>2.0</td>\n",
              "    </tr>\n",
              "    <tr>\n",
              "      <th>27</th>\n",
              "      <td>32.3902</td>\n",
              "      <td>-11.5017</td>\n",
              "      <td>2.0</td>\n",
              "    </tr>\n",
              "    <tr>\n",
              "      <th>28</th>\n",
              "      <td>37.2195</td>\n",
              "      <td>-108.1435</td>\n",
              "      <td>2.0</td>\n",
              "    </tr>\n",
              "    <tr>\n",
              "      <th>29</th>\n",
              "      <td>42.0488</td>\n",
              "      <td>29.1436</td>\n",
              "      <td>2.0</td>\n",
              "    </tr>\n",
              "    <tr>\n",
              "      <th>30</th>\n",
              "      <td>46.8780</td>\n",
              "      <td>-62.8570</td>\n",
              "      <td>2.0</td>\n",
              "    </tr>\n",
              "    <tr>\n",
              "      <th>31</th>\n",
              "      <td>51.7073</td>\n",
              "      <td>71.2950</td>\n",
              "      <td>2.0</td>\n",
              "    </tr>\n",
              "    <tr>\n",
              "      <th>32</th>\n",
              "      <td>56.5366</td>\n",
              "      <td>-45.8527</td>\n",
              "      <td>2.0</td>\n",
              "    </tr>\n",
              "    <tr>\n",
              "      <th>33</th>\n",
              "      <td>61.3659</td>\n",
              "      <td>90.0032</td>\n",
              "      <td>2.0</td>\n",
              "    </tr>\n",
              "    <tr>\n",
              "      <th>34</th>\n",
              "      <td>66.1951</td>\n",
              "      <td>140.6809</td>\n",
              "      <td>2.0</td>\n",
              "    </tr>\n",
              "    <tr>\n",
              "      <th>35</th>\n",
              "      <td>71.0244</td>\n",
              "      <td>149.7832</td>\n",
              "      <td>2.0</td>\n",
              "    </tr>\n",
              "    <tr>\n",
              "      <th>36</th>\n",
              "      <td>75.8537</td>\n",
              "      <td>96.7911</td>\n",
              "      <td>2.0</td>\n",
              "    </tr>\n",
              "    <tr>\n",
              "      <th>37</th>\n",
              "      <td>80.6829</td>\n",
              "      <td>145.3422</td>\n",
              "      <td>2.0</td>\n",
              "    </tr>\n",
              "    <tr>\n",
              "      <th>38</th>\n",
              "      <td>85.5122</td>\n",
              "      <td>189.6681</td>\n",
              "      <td>2.0</td>\n",
              "    </tr>\n",
              "    <tr>\n",
              "      <th>39</th>\n",
              "      <td>90.3415</td>\n",
              "      <td>113.8343</td>\n",
              "      <td>2.0</td>\n",
              "    </tr>\n",
              "    <tr>\n",
              "      <th>40</th>\n",
              "      <td>95.1707</td>\n",
              "      <td>182.9472</td>\n",
              "      <td>2.0</td>\n",
              "    </tr>\n",
              "    <tr>\n",
              "      <th>41</th>\n",
              "      <td>100.0000</td>\n",
              "      <td>210.0553</td>\n",
              "      <td>2.0</td>\n",
              "    </tr>\n",
              "  </tbody>\n",
              "</table>\n",
              "</div>\n",
              "      <button class=\"colab-df-convert\" onclick=\"convertToInteractive('df-e71c39c9-6a76-4162-afba-15bad1f331b0')\"\n",
              "              title=\"Convert this dataframe to an interactive table.\"\n",
              "              style=\"display:none;\">\n",
              "        \n",
              "  <svg xmlns=\"http://www.w3.org/2000/svg\" height=\"24px\"viewBox=\"0 0 24 24\"\n",
              "       width=\"24px\">\n",
              "    <path d=\"M0 0h24v24H0V0z\" fill=\"none\"/>\n",
              "    <path d=\"M18.56 5.44l.94 2.06.94-2.06 2.06-.94-2.06-.94-.94-2.06-.94 2.06-2.06.94zm-11 1L8.5 8.5l.94-2.06 2.06-.94-2.06-.94L8.5 2.5l-.94 2.06-2.06.94zm10 10l.94 2.06.94-2.06 2.06-.94-2.06-.94-.94-2.06-.94 2.06-2.06.94z\"/><path d=\"M17.41 7.96l-1.37-1.37c-.4-.4-.92-.59-1.43-.59-.52 0-1.04.2-1.43.59L10.3 9.45l-7.72 7.72c-.78.78-.78 2.05 0 2.83L4 21.41c.39.39.9.59 1.41.59.51 0 1.02-.2 1.41-.59l7.78-7.78 2.81-2.81c.8-.78.8-2.07 0-2.86zM5.41 20L4 18.59l7.72-7.72 1.47 1.35L5.41 20z\"/>\n",
              "  </svg>\n",
              "      </button>\n",
              "      \n",
              "  <style>\n",
              "    .colab-df-container {\n",
              "      display:flex;\n",
              "      flex-wrap:wrap;\n",
              "      gap: 12px;\n",
              "    }\n",
              "\n",
              "    .colab-df-convert {\n",
              "      background-color: #E8F0FE;\n",
              "      border: none;\n",
              "      border-radius: 50%;\n",
              "      cursor: pointer;\n",
              "      display: none;\n",
              "      fill: #1967D2;\n",
              "      height: 32px;\n",
              "      padding: 0 0 0 0;\n",
              "      width: 32px;\n",
              "    }\n",
              "\n",
              "    .colab-df-convert:hover {\n",
              "      background-color: #E2EBFA;\n",
              "      box-shadow: 0px 1px 2px rgba(60, 64, 67, 0.3), 0px 1px 3px 1px rgba(60, 64, 67, 0.15);\n",
              "      fill: #174EA6;\n",
              "    }\n",
              "\n",
              "    [theme=dark] .colab-df-convert {\n",
              "      background-color: #3B4455;\n",
              "      fill: #D2E3FC;\n",
              "    }\n",
              "\n",
              "    [theme=dark] .colab-df-convert:hover {\n",
              "      background-color: #434B5C;\n",
              "      box-shadow: 0px 1px 3px 1px rgba(0, 0, 0, 0.15);\n",
              "      filter: drop-shadow(0px 1px 2px rgba(0, 0, 0, 0.3));\n",
              "      fill: #FFFFFF;\n",
              "    }\n",
              "  </style>\n",
              "\n",
              "      <script>\n",
              "        const buttonEl =\n",
              "          document.querySelector('#df-e71c39c9-6a76-4162-afba-15bad1f331b0 button.colab-df-convert');\n",
              "        buttonEl.style.display =\n",
              "          google.colab.kernel.accessAllowed ? 'block' : 'none';\n",
              "\n",
              "        async function convertToInteractive(key) {\n",
              "          const element = document.querySelector('#df-e71c39c9-6a76-4162-afba-15bad1f331b0');\n",
              "          const dataTable =\n",
              "            await google.colab.kernel.invokeFunction('convertToInteractive',\n",
              "                                                     [key], {});\n",
              "          if (!dataTable) return;\n",
              "\n",
              "          const docLinkHtml = 'Like what you see? Visit the ' +\n",
              "            '<a target=\"_blank\" href=https://colab.research.google.com/notebooks/data_table.ipynb>data table notebook</a>'\n",
              "            + ' to learn more about interactive tables.';\n",
              "          element.innerHTML = '';\n",
              "          dataTable['output_type'] = 'display_data';\n",
              "          await google.colab.output.renderOutput(dataTable, element);\n",
              "          const docLink = document.createElement('div');\n",
              "          docLink.innerHTML = docLinkHtml;\n",
              "          element.appendChild(docLink);\n",
              "        }\n",
              "      </script>\n",
              "    </div>\n",
              "  </div>\n",
              "  "
            ]
          },
          "metadata": {},
          "execution_count": 113
        }
      ]
    },
    {
      "cell_type": "code",
      "source": [
        "# Ubah target nilai kelas menjadi biner 0 dan 1\n",
        "dataset.replace([1,2], [0,1], inplace=True)"
      ],
      "metadata": {
        "id": "jrz81oD0nqgM"
      },
      "execution_count": null,
      "outputs": []
    },
    {
      "cell_type": "code",
      "source": [
        "dataset"
      ],
      "metadata": {
        "colab": {
          "base_uri": "https://localhost:8080/",
          "height": 1000
        },
        "id": "qXAPqAoAvJOy",
        "outputId": "82491f8a-9889-40e2-a995-d5aa4ef0ba84"
      },
      "execution_count": null,
      "outputs": [
        {
          "output_type": "execute_result",
          "data": {
            "text/plain": [
              "           x         Y  LABEL\n",
              "0     0.0000  399.6550    0.0\n",
              "1     5.8293  428.5600    0.0\n",
              "2    10.6585  266.0618    0.0\n",
              "3    15.4878  376.9293    0.0\n",
              "4    20.3171  383.6759    0.0\n",
              "5    25.1463  463.8939    0.0\n",
              "6    29.9756  502.8094    0.0\n",
              "7    34.8049  536.4060    0.0\n",
              "8    39.6341  412.8075    0.0\n",
              "9    44.4634  553.9108    0.0\n",
              "10   49.2927  566.5294    0.0\n",
              "11   54.1220  438.7835    0.0\n",
              "12   58.9512  445.6993    0.0\n",
              "13   63.7805  579.5092    0.0\n",
              "14   68.6098  737.9232    0.0\n",
              "15   73.4390  572.1157    0.0\n",
              "16   78.2683  665.5803    0.0\n",
              "17   83.0976  577.1436    0.0\n",
              "18   87.9268  755.3801    0.0\n",
              "19   92.7561  626.5285    0.0\n",
              "20   97.5854  721.7871    0.0\n",
              "21   34.1460 -219.8153    1.0\n",
              "22   82.4390 -238.1807    1.0\n",
              "23   13.0732 -231.8583    1.0\n",
              "24   17.9024 -129.4431    1.0\n",
              "25   22.7317  -27.7249    1.0\n",
              "26   27.5610   -9.8588    1.0\n",
              "27   32.3902  -11.5017    1.0\n",
              "28   37.2195 -108.1435    1.0\n",
              "29   42.0488   29.1436    1.0\n",
              "30   46.8780  -62.8570    1.0\n",
              "31   51.7073   71.2950    1.0\n",
              "32   56.5366  -45.8527    1.0\n",
              "33   61.3659   90.0032    1.0\n",
              "34   66.1951  140.6809    1.0\n",
              "35   71.0244  149.7832    1.0\n",
              "36   75.8537   96.7911    1.0\n",
              "37   80.6829  145.3422    1.0\n",
              "38   85.5122  189.6681    1.0\n",
              "39   90.3415  113.8343    1.0\n",
              "40   95.1707  182.9472    1.0\n",
              "41  100.0000  210.0553    1.0"
            ],
            "text/html": [
              "\n",
              "  <div id=\"df-69b55f9c-832f-4f5e-aa4e-54fcdfcb5bec\">\n",
              "    <div class=\"colab-df-container\">\n",
              "      <div>\n",
              "<style scoped>\n",
              "    .dataframe tbody tr th:only-of-type {\n",
              "        vertical-align: middle;\n",
              "    }\n",
              "\n",
              "    .dataframe tbody tr th {\n",
              "        vertical-align: top;\n",
              "    }\n",
              "\n",
              "    .dataframe thead th {\n",
              "        text-align: right;\n",
              "    }\n",
              "</style>\n",
              "<table border=\"1\" class=\"dataframe\">\n",
              "  <thead>\n",
              "    <tr style=\"text-align: right;\">\n",
              "      <th></th>\n",
              "      <th>x</th>\n",
              "      <th>Y</th>\n",
              "      <th>LABEL</th>\n",
              "    </tr>\n",
              "  </thead>\n",
              "  <tbody>\n",
              "    <tr>\n",
              "      <th>0</th>\n",
              "      <td>0.0000</td>\n",
              "      <td>399.6550</td>\n",
              "      <td>0.0</td>\n",
              "    </tr>\n",
              "    <tr>\n",
              "      <th>1</th>\n",
              "      <td>5.8293</td>\n",
              "      <td>428.5600</td>\n",
              "      <td>0.0</td>\n",
              "    </tr>\n",
              "    <tr>\n",
              "      <th>2</th>\n",
              "      <td>10.6585</td>\n",
              "      <td>266.0618</td>\n",
              "      <td>0.0</td>\n",
              "    </tr>\n",
              "    <tr>\n",
              "      <th>3</th>\n",
              "      <td>15.4878</td>\n",
              "      <td>376.9293</td>\n",
              "      <td>0.0</td>\n",
              "    </tr>\n",
              "    <tr>\n",
              "      <th>4</th>\n",
              "      <td>20.3171</td>\n",
              "      <td>383.6759</td>\n",
              "      <td>0.0</td>\n",
              "    </tr>\n",
              "    <tr>\n",
              "      <th>5</th>\n",
              "      <td>25.1463</td>\n",
              "      <td>463.8939</td>\n",
              "      <td>0.0</td>\n",
              "    </tr>\n",
              "    <tr>\n",
              "      <th>6</th>\n",
              "      <td>29.9756</td>\n",
              "      <td>502.8094</td>\n",
              "      <td>0.0</td>\n",
              "    </tr>\n",
              "    <tr>\n",
              "      <th>7</th>\n",
              "      <td>34.8049</td>\n",
              "      <td>536.4060</td>\n",
              "      <td>0.0</td>\n",
              "    </tr>\n",
              "    <tr>\n",
              "      <th>8</th>\n",
              "      <td>39.6341</td>\n",
              "      <td>412.8075</td>\n",
              "      <td>0.0</td>\n",
              "    </tr>\n",
              "    <tr>\n",
              "      <th>9</th>\n",
              "      <td>44.4634</td>\n",
              "      <td>553.9108</td>\n",
              "      <td>0.0</td>\n",
              "    </tr>\n",
              "    <tr>\n",
              "      <th>10</th>\n",
              "      <td>49.2927</td>\n",
              "      <td>566.5294</td>\n",
              "      <td>0.0</td>\n",
              "    </tr>\n",
              "    <tr>\n",
              "      <th>11</th>\n",
              "      <td>54.1220</td>\n",
              "      <td>438.7835</td>\n",
              "      <td>0.0</td>\n",
              "    </tr>\n",
              "    <tr>\n",
              "      <th>12</th>\n",
              "      <td>58.9512</td>\n",
              "      <td>445.6993</td>\n",
              "      <td>0.0</td>\n",
              "    </tr>\n",
              "    <tr>\n",
              "      <th>13</th>\n",
              "      <td>63.7805</td>\n",
              "      <td>579.5092</td>\n",
              "      <td>0.0</td>\n",
              "    </tr>\n",
              "    <tr>\n",
              "      <th>14</th>\n",
              "      <td>68.6098</td>\n",
              "      <td>737.9232</td>\n",
              "      <td>0.0</td>\n",
              "    </tr>\n",
              "    <tr>\n",
              "      <th>15</th>\n",
              "      <td>73.4390</td>\n",
              "      <td>572.1157</td>\n",
              "      <td>0.0</td>\n",
              "    </tr>\n",
              "    <tr>\n",
              "      <th>16</th>\n",
              "      <td>78.2683</td>\n",
              "      <td>665.5803</td>\n",
              "      <td>0.0</td>\n",
              "    </tr>\n",
              "    <tr>\n",
              "      <th>17</th>\n",
              "      <td>83.0976</td>\n",
              "      <td>577.1436</td>\n",
              "      <td>0.0</td>\n",
              "    </tr>\n",
              "    <tr>\n",
              "      <th>18</th>\n",
              "      <td>87.9268</td>\n",
              "      <td>755.3801</td>\n",
              "      <td>0.0</td>\n",
              "    </tr>\n",
              "    <tr>\n",
              "      <th>19</th>\n",
              "      <td>92.7561</td>\n",
              "      <td>626.5285</td>\n",
              "      <td>0.0</td>\n",
              "    </tr>\n",
              "    <tr>\n",
              "      <th>20</th>\n",
              "      <td>97.5854</td>\n",
              "      <td>721.7871</td>\n",
              "      <td>0.0</td>\n",
              "    </tr>\n",
              "    <tr>\n",
              "      <th>21</th>\n",
              "      <td>34.1460</td>\n",
              "      <td>-219.8153</td>\n",
              "      <td>1.0</td>\n",
              "    </tr>\n",
              "    <tr>\n",
              "      <th>22</th>\n",
              "      <td>82.4390</td>\n",
              "      <td>-238.1807</td>\n",
              "      <td>1.0</td>\n",
              "    </tr>\n",
              "    <tr>\n",
              "      <th>23</th>\n",
              "      <td>13.0732</td>\n",
              "      <td>-231.8583</td>\n",
              "      <td>1.0</td>\n",
              "    </tr>\n",
              "    <tr>\n",
              "      <th>24</th>\n",
              "      <td>17.9024</td>\n",
              "      <td>-129.4431</td>\n",
              "      <td>1.0</td>\n",
              "    </tr>\n",
              "    <tr>\n",
              "      <th>25</th>\n",
              "      <td>22.7317</td>\n",
              "      <td>-27.7249</td>\n",
              "      <td>1.0</td>\n",
              "    </tr>\n",
              "    <tr>\n",
              "      <th>26</th>\n",
              "      <td>27.5610</td>\n",
              "      <td>-9.8588</td>\n",
              "      <td>1.0</td>\n",
              "    </tr>\n",
              "    <tr>\n",
              "      <th>27</th>\n",
              "      <td>32.3902</td>\n",
              "      <td>-11.5017</td>\n",
              "      <td>1.0</td>\n",
              "    </tr>\n",
              "    <tr>\n",
              "      <th>28</th>\n",
              "      <td>37.2195</td>\n",
              "      <td>-108.1435</td>\n",
              "      <td>1.0</td>\n",
              "    </tr>\n",
              "    <tr>\n",
              "      <th>29</th>\n",
              "      <td>42.0488</td>\n",
              "      <td>29.1436</td>\n",
              "      <td>1.0</td>\n",
              "    </tr>\n",
              "    <tr>\n",
              "      <th>30</th>\n",
              "      <td>46.8780</td>\n",
              "      <td>-62.8570</td>\n",
              "      <td>1.0</td>\n",
              "    </tr>\n",
              "    <tr>\n",
              "      <th>31</th>\n",
              "      <td>51.7073</td>\n",
              "      <td>71.2950</td>\n",
              "      <td>1.0</td>\n",
              "    </tr>\n",
              "    <tr>\n",
              "      <th>32</th>\n",
              "      <td>56.5366</td>\n",
              "      <td>-45.8527</td>\n",
              "      <td>1.0</td>\n",
              "    </tr>\n",
              "    <tr>\n",
              "      <th>33</th>\n",
              "      <td>61.3659</td>\n",
              "      <td>90.0032</td>\n",
              "      <td>1.0</td>\n",
              "    </tr>\n",
              "    <tr>\n",
              "      <th>34</th>\n",
              "      <td>66.1951</td>\n",
              "      <td>140.6809</td>\n",
              "      <td>1.0</td>\n",
              "    </tr>\n",
              "    <tr>\n",
              "      <th>35</th>\n",
              "      <td>71.0244</td>\n",
              "      <td>149.7832</td>\n",
              "      <td>1.0</td>\n",
              "    </tr>\n",
              "    <tr>\n",
              "      <th>36</th>\n",
              "      <td>75.8537</td>\n",
              "      <td>96.7911</td>\n",
              "      <td>1.0</td>\n",
              "    </tr>\n",
              "    <tr>\n",
              "      <th>37</th>\n",
              "      <td>80.6829</td>\n",
              "      <td>145.3422</td>\n",
              "      <td>1.0</td>\n",
              "    </tr>\n",
              "    <tr>\n",
              "      <th>38</th>\n",
              "      <td>85.5122</td>\n",
              "      <td>189.6681</td>\n",
              "      <td>1.0</td>\n",
              "    </tr>\n",
              "    <tr>\n",
              "      <th>39</th>\n",
              "      <td>90.3415</td>\n",
              "      <td>113.8343</td>\n",
              "      <td>1.0</td>\n",
              "    </tr>\n",
              "    <tr>\n",
              "      <th>40</th>\n",
              "      <td>95.1707</td>\n",
              "      <td>182.9472</td>\n",
              "      <td>1.0</td>\n",
              "    </tr>\n",
              "    <tr>\n",
              "      <th>41</th>\n",
              "      <td>100.0000</td>\n",
              "      <td>210.0553</td>\n",
              "      <td>1.0</td>\n",
              "    </tr>\n",
              "  </tbody>\n",
              "</table>\n",
              "</div>\n",
              "      <button class=\"colab-df-convert\" onclick=\"convertToInteractive('df-69b55f9c-832f-4f5e-aa4e-54fcdfcb5bec')\"\n",
              "              title=\"Convert this dataframe to an interactive table.\"\n",
              "              style=\"display:none;\">\n",
              "        \n",
              "  <svg xmlns=\"http://www.w3.org/2000/svg\" height=\"24px\"viewBox=\"0 0 24 24\"\n",
              "       width=\"24px\">\n",
              "    <path d=\"M0 0h24v24H0V0z\" fill=\"none\"/>\n",
              "    <path d=\"M18.56 5.44l.94 2.06.94-2.06 2.06-.94-2.06-.94-.94-2.06-.94 2.06-2.06.94zm-11 1L8.5 8.5l.94-2.06 2.06-.94-2.06-.94L8.5 2.5l-.94 2.06-2.06.94zm10 10l.94 2.06.94-2.06 2.06-.94-2.06-.94-.94-2.06-.94 2.06-2.06.94z\"/><path d=\"M17.41 7.96l-1.37-1.37c-.4-.4-.92-.59-1.43-.59-.52 0-1.04.2-1.43.59L10.3 9.45l-7.72 7.72c-.78.78-.78 2.05 0 2.83L4 21.41c.39.39.9.59 1.41.59.51 0 1.02-.2 1.41-.59l7.78-7.78 2.81-2.81c.8-.78.8-2.07 0-2.86zM5.41 20L4 18.59l7.72-7.72 1.47 1.35L5.41 20z\"/>\n",
              "  </svg>\n",
              "      </button>\n",
              "      \n",
              "  <style>\n",
              "    .colab-df-container {\n",
              "      display:flex;\n",
              "      flex-wrap:wrap;\n",
              "      gap: 12px;\n",
              "    }\n",
              "\n",
              "    .colab-df-convert {\n",
              "      background-color: #E8F0FE;\n",
              "      border: none;\n",
              "      border-radius: 50%;\n",
              "      cursor: pointer;\n",
              "      display: none;\n",
              "      fill: #1967D2;\n",
              "      height: 32px;\n",
              "      padding: 0 0 0 0;\n",
              "      width: 32px;\n",
              "    }\n",
              "\n",
              "    .colab-df-convert:hover {\n",
              "      background-color: #E2EBFA;\n",
              "      box-shadow: 0px 1px 2px rgba(60, 64, 67, 0.3), 0px 1px 3px 1px rgba(60, 64, 67, 0.15);\n",
              "      fill: #174EA6;\n",
              "    }\n",
              "\n",
              "    [theme=dark] .colab-df-convert {\n",
              "      background-color: #3B4455;\n",
              "      fill: #D2E3FC;\n",
              "    }\n",
              "\n",
              "    [theme=dark] .colab-df-convert:hover {\n",
              "      background-color: #434B5C;\n",
              "      box-shadow: 0px 1px 3px 1px rgba(0, 0, 0, 0.15);\n",
              "      filter: drop-shadow(0px 1px 2px rgba(0, 0, 0, 0.3));\n",
              "      fill: #FFFFFF;\n",
              "    }\n",
              "  </style>\n",
              "\n",
              "      <script>\n",
              "        const buttonEl =\n",
              "          document.querySelector('#df-69b55f9c-832f-4f5e-aa4e-54fcdfcb5bec button.colab-df-convert');\n",
              "        buttonEl.style.display =\n",
              "          google.colab.kernel.accessAllowed ? 'block' : 'none';\n",
              "\n",
              "        async function convertToInteractive(key) {\n",
              "          const element = document.querySelector('#df-69b55f9c-832f-4f5e-aa4e-54fcdfcb5bec');\n",
              "          const dataTable =\n",
              "            await google.colab.kernel.invokeFunction('convertToInteractive',\n",
              "                                                     [key], {});\n",
              "          if (!dataTable) return;\n",
              "\n",
              "          const docLinkHtml = 'Like what you see? Visit the ' +\n",
              "            '<a target=\"_blank\" href=https://colab.research.google.com/notebooks/data_table.ipynb>data table notebook</a>'\n",
              "            + ' to learn more about interactive tables.';\n",
              "          element.innerHTML = '';\n",
              "          dataTable['output_type'] = 'display_data';\n",
              "          await google.colab.output.renderOutput(dataTable, element);\n",
              "          const docLink = document.createElement('div');\n",
              "          docLink.innerHTML = docLinkHtml;\n",
              "          element.appendChild(docLink);\n",
              "        }\n",
              "      </script>\n",
              "    </div>\n",
              "  </div>\n",
              "  "
            ]
          },
          "metadata": {},
          "execution_count": 115
        }
      ]
    },
    {
      "cell_type": "code",
      "source": [
        "# X = nilai fitur, semua kolom kecuali kolom terakhir\n",
        "X = dataset.iloc[:, :-1]\n",
        "\n",
        "# y = nilai target, kolom terakhir dari dataset\n",
        "y = dataset.iloc[:, 2]\n",
        "\n",
        "# data yang diberi label 1\n",
        "labelledone = dataset.loc[y == 0]\n",
        "\n",
        "# data yang diberi label 2\n",
        "labelledtwo = dataset.loc[y == 1]\n",
        "\n",
        "# plots\n",
        "plt.scatter(labelledone.iloc[:, 0], labelledone.iloc[:, 1], s=30, marker='+', label='Labelled One')\n",
        "plt.scatter(labelledtwo.iloc[:, 0], labelledtwo.iloc[:, 1], s=20, marker='o', label='Labelled Two')\n",
        "plt.xlabel('x')\n",
        "plt.ylabel('Y')\n",
        "plt.legend()\n",
        "plt.show()"
      ],
      "metadata": {
        "colab": {
          "base_uri": "https://localhost:8080/",
          "height": 282
        },
        "id": "cZpc7YTu0nhg",
        "outputId": "f097e2f7-cfde-4add-c27e-2f2aa2bb40ac"
      },
      "execution_count": null,
      "outputs": [
        {
          "output_type": "display_data",
          "data": {
            "text/plain": [
              "<Figure size 432x288 with 1 Axes>"
            ],
            "image/png": "[encoded data removed]"
          },
          "metadata": {
            "needs_background": "light"
          }
        }
      ]
    },
    {
      "cell_type": "markdown",
      "source": [
        "# **Linear**"
      ],
      "metadata": {
        "id": "PM7VQFIoAvqa"
      }
    },
    {
      "cell_type": "markdown",
      "source": [
        "**Qualitatif**"
      ],
      "metadata": {
        "id": "RFlkqP6RAkR8"
      }
    },
    {
      "cell_type": "code",
      "source": [
        "# Sigmoid Function\n",
        "def sigmoid(x):\n",
        "  return 1/(1+np.exp(-x))"
      ],
      "metadata": {
        "id": "Kaj78OX46wim"
      },
      "execution_count": null,
      "outputs": []
    },
    {
      "cell_type": "code",
      "source": [
        "# Cost Function\n",
        "def costFunction(theta, X, y):\n",
        "    J = (-1/m) * np.sum(np.multiply(y, np.log(sigmoid(X @ theta)))\n",
        "        + np.multiply((1-y), np.log(1 - sigmoid(X @ theta))))\n",
        "    return J"
      ],
      "metadata": {
        "id": "7Bp0SS1O60d-"
      },
      "execution_count": null,
      "outputs": []
    },
    {
      "cell_type": "code",
      "source": [
        "# Gradient Function\n",
        "def gradient(theta, X, y):\n",
        "    return ((1/m) * X.T @ (sigmoid(X @ theta) - y))"
      ],
      "metadata": {
        "id": "zkyaODXw63np"
      },
      "execution_count": null,
      "outputs": []
    },
    {
      "cell_type": "code",
      "source": [
        "X.shape"
      ],
      "metadata": {
        "colab": {
          "base_uri": "https://localhost:8080/"
        },
        "id": "JBIz811U8LXt",
        "outputId": "1893ff93-9116-4b08-8ee2-b363e4898902"
      },
      "execution_count": null,
      "outputs": [
        {
          "output_type": "execute_result",
          "data": {
            "text/plain": [
              "(42, 2)"
            ]
          },
          "metadata": {},
          "execution_count": 120
        }
      ]
    },
    {
      "cell_type": "code",
      "source": [
        "(m, n) = X.shape\n",
        "X = np.hstack((np.ones((m,1)), X))\n",
        "y = y[:, np.newaxis]\n",
        "theta = np.zeros((n+1,1)) # intializing theta with all zeros\n",
        "J = costFunction(theta, X, y)\n",
        "print(J)"
      ],
      "metadata": {
        "colab": {
          "base_uri": "https://localhost:8080/"
        },
        "id": "sp80m2Ho65rT",
        "outputId": "93cd2d80-43ef-4bce-9af8-4edcc011d4d9"
      },
      "execution_count": null,
      "outputs": [
        {
          "output_type": "stream",
          "name": "stdout",
          "text": [
            "0.6931471805599452\n"
          ]
        },
        {
          "output_type": "stream",
          "name": "stderr",
          "text": [
            "<ipython-input-121-d7615796b441>:3: FutureWarning: Support for multi-dimensional indexing (e.g. `obj[:, None]`) is deprecated and will be removed in a future version.  Convert to a numpy array before indexing instead.\n",
            "  y = y[:, np.newaxis]\n"
          ]
        }
      ]
    },
    {
      "cell_type": "code",
      "source": [
        "# Optimisasi parameter dengan fmin_tnc dari library scipy\n",
        "\n",
        "temp = opt.fmin_tnc(func = costFunction,\n",
        "                    x0 = theta.flatten(),fprime = gradient,\n",
        "                    args = (X, y.flatten()))\n",
        "# Kolom pertama pada tuple output menunjukkan hasil theta yang dioptimalkan\n",
        "theta_optimized = temp[0]\n",
        "print(theta_optimized)"
      ],
      "metadata": {
        "colab": {
          "base_uri": "https://localhost:8080/"
        },
        "id": "3QndgXUU69VE",
        "outputId": "1afbc1f1-7c8d-422a-8514-766394ae4509"
      },
      "execution_count": null,
      "outputs": [
        {
          "output_type": "stream",
          "name": "stdout",
          "text": [
            "[ 0.12189149  0.26834704 -0.06084728]\n"
          ]
        },
        {
          "output_type": "stream",
          "name": "stderr",
          "text": [
            "<ipython-input-118-276fa6c09b0c>:4: RuntimeWarning: divide by zero encountered in log\n",
            "  + np.multiply((1-y), np.log(1 - sigmoid(X @ theta))))\n",
            "<ipython-input-118-276fa6c09b0c>:4: RuntimeWarning: invalid value encountered in multiply\n",
            "  + np.multiply((1-y), np.log(1 - sigmoid(X @ theta))))\n"
          ]
        }
      ]
    },
    {
      "cell_type": "code",
      "source": [
        "# Hitung Cost Function dengan theta yang dioptimalkan\n",
        "J = costFunction(theta_optimized[:,np.newaxis], X, y)\n",
        "print(J)"
      ],
      "metadata": {
        "colab": {
          "base_uri": "https://localhost:8080/"
        },
        "id": "oYdyJW7L7CKI",
        "outputId": "0597cb1d-6e7c-4358-e6ed-a961894e8388"
      },
      "execution_count": null,
      "outputs": [
        {
          "output_type": "stream",
          "name": "stdout",
          "text": [
            "2.5235637651400175e-05\n"
          ]
        }
      ]
    },
    {
      "cell_type": "code",
      "source": [
        "# Plotting\n",
        "plot_x = [np.min(X[:,1]-2), np.max(X[:,2]+2)]\n",
        "plot_y = -1/theta_optimized[2]*(theta_optimized[0]\n",
        "          + np.dot(theta_optimized[1],plot_x))\n",
        "mask = y.flatten() == 1\n",
        "adm = plt.scatter(X[mask][:,1], X[mask][:,2])\n",
        "not_adm = plt.scatter(X[~mask][:,1], X[~mask][:,2])\n",
        "decision_boun = plt.plot(plot_x, plot_y)\n",
        "plt.xlabel('x')\n",
        "plt.ylabel('Y')\n",
        "plt.legend((adm, not_adm), ('Labelled One', 'Labelled Two'))\n",
        "plt.show()"
      ],
      "metadata": {
        "colab": {
          "base_uri": "https://localhost:8080/",
          "height": 282
        },
        "id": "fPmALtd07E-n",
        "outputId": "6d8a7e98-672f-444d-bb91-303068041593"
      },
      "execution_count": null,
      "outputs": [
        {
          "output_type": "display_data",
          "data": {
            "text/plain": [
              "<Figure size 432x288 with 1 Axes>"
            ],
            "image/png": "[encoded data removed]"
          },
          "metadata": {
            "needs_background": "light"
          }
        }
      ]
    },
    {
      "cell_type": "markdown",
      "source": [
        "**Akurasi Model**"
      ],
      "metadata": {
        "id": "UCNLczjYlb8N"
      }
    },
    {
      "cell_type": "code",
      "source": [
        "def accuracy(X, y, theta, cutoff):\n",
        "    pred = [sigmoid(np.dot(X, theta)) >= cutoff]\n",
        "    acc = np.mean(pred == y)\n",
        "    print(acc * 100)\n",
        "accuracy(X, y.flatten(), theta_optimized, 0.5)"
      ],
      "metadata": {
        "colab": {
          "base_uri": "https://localhost:8080/"
        },
        "id": "7MjhTvh7jZ-a",
        "outputId": "176e8e0b-2cd8-44ef-ea5a-ea4de305a7ed"
      },
      "execution_count": null,
      "outputs": [
        {
          "output_type": "stream",
          "name": "stdout",
          "text": [
            "100.0\n"
          ]
        }
      ]
    },
    {
      "cell_type": "markdown",
      "source": [
        "**Quantitatif**"
      ],
      "metadata": {
        "id": "yHv1p8DGA0qo"
      }
    },
    {
      "cell_type": "code",
      "source": [
        "dataset"
      ],
      "metadata": {
        "colab": {
          "base_uri": "https://localhost:8080/",
          "height": 1000
        },
        "id": "jqqaRnV2BK6_",
        "outputId": "9adba4cb-bb4b-41c2-8ee1-e01955b1bd93"
      },
      "execution_count": null,
      "outputs": [
        {
          "output_type": "execute_result",
          "data": {
            "text/plain": [
              "           x         Y  LABEL\n",
              "0     0.0000  399.6550    0.0\n",
              "1     5.8293  428.5600    0.0\n",
              "2    10.6585  266.0618    0.0\n",
              "3    15.4878  376.9293    0.0\n",
              "4    20.3171  383.6759    0.0\n",
              "5    25.1463  463.8939    0.0\n",
              "6    29.9756  502.8094    0.0\n",
              "7    34.8049  536.4060    0.0\n",
              "8    39.6341  412.8075    0.0\n",
              "9    44.4634  553.9108    0.0\n",
              "10   49.2927  566.5294    0.0\n",
              "11   54.1220  438.7835    0.0\n",
              "12   58.9512  445.6993    0.0\n",
              "13   63.7805  579.5092    0.0\n",
              "14   68.6098  737.9232    0.0\n",
              "15   73.4390  572.1157    0.0\n",
              "16   78.2683  665.5803    0.0\n",
              "17   83.0976  577.1436    0.0\n",
              "18   87.9268  755.3801    0.0\n",
              "19   92.7561  626.5285    0.0\n",
              "20   97.5854  721.7871    0.0\n",
              "21   34.1460 -219.8153    1.0\n",
              "22   82.4390 -238.1807    1.0\n",
              "23   13.0732 -231.8583    1.0\n",
              "24   17.9024 -129.4431    1.0\n",
              "25   22.7317  -27.7249    1.0\n",
              "26   27.5610   -9.8588    1.0\n",
              "27   32.3902  -11.5017    1.0\n",
              "28   37.2195 -108.1435    1.0\n",
              "29   42.0488   29.1436    1.0\n",
              "30   46.8780  -62.8570    1.0\n",
              "31   51.7073   71.2950    1.0\n",
              "32   56.5366  -45.8527    1.0\n",
              "33   61.3659   90.0032    1.0\n",
              "34   66.1951  140.6809    1.0\n",
              "35   71.0244  149.7832    1.0\n",
              "36   75.8537   96.7911    1.0\n",
              "37   80.6829  145.3422    1.0\n",
              "38   85.5122  189.6681    1.0\n",
              "39   90.3415  113.8343    1.0\n",
              "40   95.1707  182.9472    1.0\n",
              "41  100.0000  210.0553    1.0"
            ],
            "text/html": [
              "\n",
              "  <div id=\"df-861f7667-5ced-4320-8929-3a8c9f03898d\">\n",
              "    <div class=\"colab-df-container\">\n",
              "      <div>\n",
              "<style scoped>\n",
              "    .dataframe tbody tr th:only-of-type {\n",
              "        vertical-align: middle;\n",
              "    }\n",
              "\n",
              "    .dataframe tbody tr th {\n",
              "        vertical-align: top;\n",
              "    }\n",
              "\n",
              "    .dataframe thead th {\n",
              "        text-align: right;\n",
              "    }\n",
              "</style>\n",
              "<table border=\"1\" class=\"dataframe\">\n",
              "  <thead>\n",
              "    <tr style=\"text-align: right;\">\n",
              "      <th></th>\n",
              "      <th>x</th>\n",
              "      <th>Y</th>\n",
              "      <th>LABEL</th>\n",
              "    </tr>\n",
              "  </thead>\n",
              "  <tbody>\n",
              "    <tr>\n",
              "      <th>0</th>\n",
              "      <td>0.0000</td>\n",
              "      <td>399.6550</td>\n",
              "      <td>0.0</td>\n",
              "    </tr>\n",
              "    <tr>\n",
              "      <th>1</th>\n",
              "      <td>5.8293</td>\n",
              "      <td>428.5600</td>\n",
              "      <td>0.0</td>\n",
              "    </tr>\n",
              "    <tr>\n",
              "      <th>2</th>\n",
              "      <td>10.6585</td>\n",
              "      <td>266.0618</td>\n",
              "      <td>0.0</td>\n",
              "    </tr>\n",
              "    <tr>\n",
              "      <th>3</th>\n",
              "      <td>15.4878</td>\n",
              "      <td>376.9293</td>\n",
              "      <td>0.0</td>\n",
              "    </tr>\n",
              "    <tr>\n",
              "      <th>4</th>\n",
              "      <td>20.3171</td>\n",
              "      <td>383.6759</td>\n",
              "      <td>0.0</td>\n",
              "    </tr>\n",
              "    <tr>\n",
              "      <th>5</th>\n",
              "      <td>25.1463</td>\n",
              "      <td>463.8939</td>\n",
              "      <td>0.0</td>\n",
              "    </tr>\n",
              "    <tr>\n",
              "      <th>6</th>\n",
              "      <td>29.9756</td>\n",
              "      <td>502.8094</td>\n",
              "      <td>0.0</td>\n",
              "    </tr>\n",
              "    <tr>\n",
              "      <th>7</th>\n",
              "      <td>34.8049</td>\n",
              "      <td>536.4060</td>\n",
              "      <td>0.0</td>\n",
              "    </tr>\n",
              "    <tr>\n",
              "      <th>8</th>\n",
              "      <td>39.6341</td>\n",
              "      <td>412.8075</td>\n",
              "      <td>0.0</td>\n",
              "    </tr>\n",
              "    <tr>\n",
              "      <th>9</th>\n",
              "      <td>44.4634</td>\n",
              "      <td>553.9108</td>\n",
              "      <td>0.0</td>\n",
              "    </tr>\n",
              "    <tr>\n",
              "      <th>10</th>\n",
              "      <td>49.2927</td>\n",
              "      <td>566.5294</td>\n",
              "      <td>0.0</td>\n",
              "    </tr>\n",
              "    <tr>\n",
              "      <th>11</th>\n",
              "      <td>54.1220</td>\n",
              "      <td>438.7835</td>\n",
              "      <td>0.0</td>\n",
              "    </tr>\n",
              "    <tr>\n",
              "      <th>12</th>\n",
              "      <td>58.9512</td>\n",
              "      <td>445.6993</td>\n",
              "      <td>0.0</td>\n",
              "    </tr>\n",
              "    <tr>\n",
              "      <th>13</th>\n",
              "      <td>63.7805</td>\n",
              "      <td>579.5092</td>\n",
              "      <td>0.0</td>\n",
              "    </tr>\n",
              "    <tr>\n",
              "      <th>14</th>\n",
              "      <td>68.6098</td>\n",
              "      <td>737.9232</td>\n",
              "      <td>0.0</td>\n",
              "    </tr>\n",
              "    <tr>\n",
              "      <th>15</th>\n",
              "      <td>73.4390</td>\n",
              "      <td>572.1157</td>\n",
              "      <td>0.0</td>\n",
              "    </tr>\n",
              "    <tr>\n",
              "      <th>16</th>\n",
              "      <td>78.2683</td>\n",
              "      <td>665.5803</td>\n",
              "      <td>0.0</td>\n",
              "    </tr>\n",
              "    <tr>\n",
              "      <th>17</th>\n",
              "      <td>83.0976</td>\n",
              "      <td>577.1436</td>\n",
              "      <td>0.0</td>\n",
              "    </tr>\n",
              "    <tr>\n",
              "      <th>18</th>\n",
              "      <td>87.9268</td>\n",
              "      <td>755.3801</td>\n",
              "      <td>0.0</td>\n",
              "    </tr>\n",
              "    <tr>\n",
              "      <th>19</th>\n",
              "      <td>92.7561</td>\n",
              "      <td>626.5285</td>\n",
              "      <td>0.0</td>\n",
              "    </tr>\n",
              "    <tr>\n",
              "      <th>20</th>\n",
              "      <td>97.5854</td>\n",
              "      <td>721.7871</td>\n",
              "      <td>0.0</td>\n",
              "    </tr>\n",
              "    <tr>\n",
              "      <th>21</th>\n",
              "      <td>34.1460</td>\n",
              "      <td>-219.8153</td>\n",
              "      <td>1.0</td>\n",
              "    </tr>\n",
              "    <tr>\n",
              "      <th>22</th>\n",
              "      <td>82.4390</td>\n",
              "      <td>-238.1807</td>\n",
              "      <td>1.0</td>\n",
              "    </tr>\n",
              "    <tr>\n",
              "      <th>23</th>\n",
              "      <td>13.0732</td>\n",
              "      <td>-231.8583</td>\n",
              "      <td>1.0</td>\n",
              "    </tr>\n",
              "    <tr>\n",
              "      <th>24</th>\n",
              "      <td>17.9024</td>\n",
              "      <td>-129.4431</td>\n",
              "      <td>1.0</td>\n",
              "    </tr>\n",
              "    <tr>\n",
              "      <th>25</th>\n",
              "      <td>22.7317</td>\n",
              "      <td>-27.7249</td>\n",
              "      <td>1.0</td>\n",
              "    </tr>\n",
              "    <tr>\n",
              "      <th>26</th>\n",
              "      <td>27.5610</td>\n",
              "      <td>-9.8588</td>\n",
              "      <td>1.0</td>\n",
              "    </tr>\n",
              "    <tr>\n",
              "      <th>27</th>\n",
              "      <td>32.3902</td>\n",
              "      <td>-11.5017</td>\n",
              "      <td>1.0</td>\n",
              "    </tr>\n",
              "    <tr>\n",
              "      <th>28</th>\n",
              "      <td>37.2195</td>\n",
              "      <td>-108.1435</td>\n",
              "      <td>1.0</td>\n",
              "    </tr>\n",
              "    <tr>\n",
              "      <th>29</th>\n",
              "      <td>42.0488</td>\n",
              "      <td>29.1436</td>\n",
              "      <td>1.0</td>\n",
              "    </tr>\n",
              "    <tr>\n",
              "      <th>30</th>\n",
              "      <td>46.8780</td>\n",
              "      <td>-62.8570</td>\n",
              "      <td>1.0</td>\n",
              "    </tr>\n",
              "    <tr>\n",
              "      <th>31</th>\n",
              "      <td>51.7073</td>\n",
              "      <td>71.2950</td>\n",
              "      <td>1.0</td>\n",
              "    </tr>\n",
              "    <tr>\n",
              "      <th>32</th>\n",
              "      <td>56.5366</td>\n",
              "      <td>-45.8527</td>\n",
              "      <td>1.0</td>\n",
              "    </tr>\n",
              "    <tr>\n",
              "      <th>33</th>\n",
              "      <td>61.3659</td>\n",
              "      <td>90.0032</td>\n",
              "      <td>1.0</td>\n",
              "    </tr>\n",
              "    <tr>\n",
              "      <th>34</th>\n",
              "      <td>66.1951</td>\n",
              "      <td>140.6809</td>\n",
              "      <td>1.0</td>\n",
              "    </tr>\n",
              "    <tr>\n",
              "      <th>35</th>\n",
              "      <td>71.0244</td>\n",
              "      <td>149.7832</td>\n",
              "      <td>1.0</td>\n",
              "    </tr>\n",
              "    <tr>\n",
              "      <th>36</th>\n",
              "      <td>75.8537</td>\n",
              "      <td>96.7911</td>\n",
              "      <td>1.0</td>\n",
              "    </tr>\n",
              "    <tr>\n",
              "      <th>37</th>\n",
              "      <td>80.6829</td>\n",
              "      <td>145.3422</td>\n",
              "      <td>1.0</td>\n",
              "    </tr>\n",
              "    <tr>\n",
              "      <th>38</th>\n",
              "      <td>85.5122</td>\n",
              "      <td>189.6681</td>\n",
              "      <td>1.0</td>\n",
              "    </tr>\n",
              "    <tr>\n",
              "      <th>39</th>\n",
              "      <td>90.3415</td>\n",
              "      <td>113.8343</td>\n",
              "      <td>1.0</td>\n",
              "    </tr>\n",
              "    <tr>\n",
              "      <th>40</th>\n",
              "      <td>95.1707</td>\n",
              "      <td>182.9472</td>\n",
              "      <td>1.0</td>\n",
              "    </tr>\n",
              "    <tr>\n",
              "      <th>41</th>\n",
              "      <td>100.0000</td>\n",
              "      <td>210.0553</td>\n",
              "      <td>1.0</td>\n",
              "    </tr>\n",
              "  </tbody>\n",
              "</table>\n",
              "</div>\n",
              "      <button class=\"colab-df-convert\" onclick=\"convertToInteractive('df-861f7667-5ced-4320-8929-3a8c9f03898d')\"\n",
              "              title=\"Convert this dataframe to an interactive table.\"\n",
              "              style=\"display:none;\">\n",
              "        \n",
              "  <svg xmlns=\"http://www.w3.org/2000/svg\" height=\"24px\"viewBox=\"0 0 24 24\"\n",
              "       width=\"24px\">\n",
              "    <path d=\"M0 0h24v24H0V0z\" fill=\"none\"/>\n",
              "    <path d=\"M18.56 5.44l.94 2.06.94-2.06 2.06-.94-2.06-.94-.94-2.06-.94 2.06-2.06.94zm-11 1L8.5 8.5l.94-2.06 2.06-.94-2.06-.94L8.5 2.5l-.94 2.06-2.06.94zm10 10l.94 2.06.94-2.06 2.06-.94-2.06-.94-.94-2.06-.94 2.06-2.06.94z\"/><path d=\"M17.41 7.96l-1.37-1.37c-.4-.4-.92-.59-1.43-.59-.52 0-1.04.2-1.43.59L10.3 9.45l-7.72 7.72c-.78.78-.78 2.05 0 2.83L4 21.41c.39.39.9.59 1.41.59.51 0 1.02-.2 1.41-.59l7.78-7.78 2.81-2.81c.8-.78.8-2.07 0-2.86zM5.41 20L4 18.59l7.72-7.72 1.47 1.35L5.41 20z\"/>\n",
              "  </svg>\n",
              "      </button>\n",
              "      \n",
              "  <style>\n",
              "    .colab-df-container {\n",
              "      display:flex;\n",
              "      flex-wrap:wrap;\n",
              "      gap: 12px;\n",
              "    }\n",
              "\n",
              "    .colab-df-convert {\n",
              "      background-color: #E8F0FE;\n",
              "      border: none;\n",
              "      border-radius: 50%;\n",
              "      cursor: pointer;\n",
              "      display: none;\n",
              "      fill: #1967D2;\n",
              "      height: 32px;\n",
              "      padding: 0 0 0 0;\n",
              "      width: 32px;\n",
              "    }\n",
              "\n",
              "    .colab-df-convert:hover {\n",
              "      background-color: #E2EBFA;\n",
              "      box-shadow: 0px 1px 2px rgba(60, 64, 67, 0.3), 0px 1px 3px 1px rgba(60, 64, 67, 0.15);\n",
              "      fill: #174EA6;\n",
              "    }\n",
              "\n",
              "    [theme=dark] .colab-df-convert {\n",
              "      background-color: #3B4455;\n",
              "      fill: #D2E3FC;\n",
              "    }\n",
              "\n",
              "    [theme=dark] .colab-df-convert:hover {\n",
              "      background-color: #434B5C;\n",
              "      box-shadow: 0px 1px 3px 1px rgba(0, 0, 0, 0.15);\n",
              "      filter: drop-shadow(0px 1px 2px rgba(0, 0, 0, 0.3));\n",
              "      fill: #FFFFFF;\n",
              "    }\n",
              "  </style>\n",
              "\n",
              "      <script>\n",
              "        const buttonEl =\n",
              "          document.querySelector('#df-861f7667-5ced-4320-8929-3a8c9f03898d button.colab-df-convert');\n",
              "        buttonEl.style.display =\n",
              "          google.colab.kernel.accessAllowed ? 'block' : 'none';\n",
              "\n",
              "        async function convertToInteractive(key) {\n",
              "          const element = document.querySelector('#df-861f7667-5ced-4320-8929-3a8c9f03898d');\n",
              "          const dataTable =\n",
              "            await google.colab.kernel.invokeFunction('convertToInteractive',\n",
              "                                                     [key], {});\n",
              "          if (!dataTable) return;\n",
              "\n",
              "          const docLinkHtml = 'Like what you see? Visit the ' +\n",
              "            '<a target=\"_blank\" href=https://colab.research.google.com/notebooks/data_table.ipynb>data table notebook</a>'\n",
              "            + ' to learn more about interactive tables.';\n",
              "          element.innerHTML = '';\n",
              "          dataTable['output_type'] = 'display_data';\n",
              "          await google.colab.output.renderOutput(dataTable, element);\n",
              "          const docLink = document.createElement('div');\n",
              "          docLink.innerHTML = docLinkHtml;\n",
              "          element.appendChild(docLink);\n",
              "        }\n",
              "      </script>\n",
              "    </div>\n",
              "  </div>\n",
              "  "
            ]
          },
          "metadata": {},
          "execution_count": 126
        }
      ]
    },
    {
      "cell_type": "code",
      "source": [
        "# X = nilai fitur, semua kolom kecuali kolom terakhir\n",
        "X = dataset.iloc[:, :-1]\n",
        "\n",
        "# y = nilai target, kolom terakhir dari dataset\n",
        "y = dataset.iloc[:, 2]"
      ],
      "metadata": {
        "id": "7-aOHDS1B7tE"
      },
      "execution_count": null,
      "outputs": []
    },
    {
      "cell_type": "code",
      "execution_count": null,
      "metadata": {
        "id": "Z-xtsV4tU2Ih"
      },
      "outputs": [],
      "source": [
        "# Untuk validasi, split data menjadi data training dan data testing\n",
        "# menggunakan sklearn package\n",
        "from sklearn.model_selection import train_test_split\n",
        "\n",
        "# data train = 80% dan data test = 20%\n",
        "X_train, X_test, y_train, y_test = train_test_split(X,y,test_size=0.2, random_state=42)"
      ]
    },
    {
      "cell_type": "code",
      "execution_count": null,
      "metadata": {
        "colab": {
          "base_uri": "https://localhost:8080/"
        },
        "id": "Krw67KtxU2Il",
        "outputId": "19476f74-02c3-44ce-e15a-671cea6c207c"
      },
      "outputs": [
        {
          "output_type": "execute_result",
          "data": {
            "text/plain": [
              "(array([15.86868326]), array([[ 0.10187707, -0.08883444]]))"
            ]
          },
          "metadata": {},
          "execution_count": 129
        }
      ],
      "source": [
        "# Bangun model dengan menggunakan library SCIKIT-LEARN: LogisticRegression\n",
        "from sklearn.linear_model import LogisticRegression\n",
        "\n",
        "sk_model = LogisticRegression()                               # initialization\n",
        "sk_model.fit(X_train, y_train)      # training the model\n",
        "sk_preds = sk_model.predict(X_test) # testing process, input: testing data\n",
        "\n",
        "sk_model.intercept_, sk_model.coef_     # show the output: b0 and b1 from the prediction"
      ]
    },
    {
      "cell_type": "code",
      "execution_count": null,
      "metadata": {
        "colab": {
          "base_uri": "https://localhost:8080/"
        },
        "id": "8rBg6AtkU2Il",
        "outputId": "d1cc7f89-fb37-4228-c1d7-a144f9b97d4b"
      },
      "outputs": [
        {
          "output_type": "execute_result",
          "data": {
            "text/plain": [
              "0.0"
            ]
          },
          "metadata": {},
          "execution_count": 130
        }
      ],
      "source": [
        "# Validasi hasil prediksi dengan data dengan menggunakan RMSE\n",
        "from sklearn.metrics import mean_squared_error  # import rmse dari sklearn\n",
        "rmse = lambda y, y_pred: np.sqrt(mean_squared_error(y, y_pred))\n",
        "rmse(y_test, sk_preds)"
      ]
    },
    {
      "cell_type": "markdown",
      "source": [
        "# **SVM**"
      ],
      "metadata": {
        "id": "joHGutmUCm0d"
      }
    },
    {
      "cell_type": "markdown",
      "source": [
        "**Quantitatif**"
      ],
      "metadata": {
        "id": "K0024p0GjG1F"
      }
    },
    {
      "cell_type": "code",
      "source": [
        "# Untuk plot source data\n",
        "# one = variabel x\n",
        "one = dataset.iloc[:, 0]\n",
        "\n",
        "# two = variabel y\n",
        "two = dataset.iloc[:, 1]"
      ],
      "metadata": {
        "id": "KHtsX-oWEPVP"
      },
      "execution_count": null,
      "outputs": []
    },
    {
      "cell_type": "code",
      "source": [
        "#Import svm model\n",
        "from sklearn import svm\n",
        "#Buat svm Classifier\n",
        "clf = svm.SVC(kernel='linear') # Linear Kernel\n",
        "#Train model menggunakan training sets\n",
        "clf.fit(X_train, y_train)\n",
        "#Predisi hasil untuk test dataset\n",
        "y_pred = clf.predict(X_test)"
      ],
      "metadata": {
        "id": "Xpoa2bDjJxFX"
      },
      "execution_count": null,
      "outputs": []
    },
    {
      "cell_type": "code",
      "source": [
        "y_test"
      ],
      "metadata": {
        "colab": {
          "base_uri": "https://localhost:8080/"
        },
        "id": "50wz3hdHixhV",
        "outputId": "a2186717-8985-43c8-8544-06ce1fad2e8b"
      },
      "execution_count": null,
      "outputs": [
        {
          "output_type": "execute_result",
          "data": {
            "text/plain": [
              "25    1.0\n",
              "13    0.0\n",
              "8     0.0\n",
              "26    1.0\n",
              "4     0.0\n",
              "39    1.0\n",
              "19    0.0\n",
              "29    1.0\n",
              "30    1.0\n",
              "Name: LABEL, dtype: float64"
            ]
          },
          "metadata": {},
          "execution_count": 133
        }
      ]
    },
    {
      "cell_type": "code",
      "source": [
        "y_pred"
      ],
      "metadata": {
        "colab": {
          "base_uri": "https://localhost:8080/"
        },
        "id": "54zziDpii0H1",
        "outputId": "4c3b45e5-cade-434e-b3bb-0838fd339ca6"
      },
      "execution_count": null,
      "outputs": [
        {
          "output_type": "execute_result",
          "data": {
            "text/plain": [
              "array([1., 0., 0., 1., 0., 1., 0., 1., 1.])"
            ]
          },
          "metadata": {},
          "execution_count": 134
        }
      ]
    },
    {
      "cell_type": "code",
      "source": [
        "# Hitung akurasi melalui RMSE untuk hasil dari SVC - SCIKIT-LEARN:\n",
        "rmse_svc = rmse(y_test, y_pred)\n",
        "rmse_svc"
      ],
      "metadata": {
        "colab": {
          "base_uri": "https://localhost:8080/"
        },
        "id": "IPnhx765Ki9h",
        "outputId": "6f1ed61f-3b61-4ad3-d10a-5739151a0e6f"
      },
      "execution_count": null,
      "outputs": [
        {
          "output_type": "execute_result",
          "data": {
            "text/plain": [
              "0.0"
            ]
          },
          "metadata": {},
          "execution_count": 135
        }
      ]
    },
    {
      "cell_type": "markdown",
      "source": [
        "**Qualitatif**"
      ],
      "metadata": {
        "id": "tEV23YDBCmxu"
      }
    },
    {
      "cell_type": "code",
      "source": [
        "# PLOTTING\n",
        "plt.scatter(one, two, s=20, c='#087E8B', alpha=0.65, label='Source data')   # plot scatter\n",
        "plt.plot(X_test, y_pred, color='#000000', lw=3, label=f'SVC linear : RMSE = {rmse_svc:.4f}')\n",
        "plt.title('SVC, kernel: linear', size=20)\n",
        "plt.xlabel('x', size=14)\n",
        "plt.ylabel('Y', size=14)\n",
        "plt.legend()                 # menunjukkan label\n",
        "plt.show()"
      ],
      "metadata": {
        "colab": {
          "base_uri": "https://localhost:8080/",
          "height": 304
        },
        "id": "jcDUjgTFKFVw",
        "outputId": "907a63a6-5eaa-49b8-cdcf-3767e18c15b3"
      },
      "execution_count": null,
      "outputs": [
        {
          "output_type": "display_data",
          "data": {
            "text/plain": [
              "<Figure size 432x288 with 1 Axes>"
            ],
            "image/png": "[encoded data removed]"
          },
          "metadata": {
            "needs_background": "light"
          }
        }
      ]
    },
    {
      "cell_type": "markdown",
      "source": [
        "**Confusion Matrix**"
      ],
      "metadata": {
        "id": "PUjrzLbxlRMl"
      }
    },
    {
      "cell_type": "code",
      "source": [
        "from sklearn.metrics import confusion_matrix\n",
        "cm = confusion_matrix(y_test, y_pred)\n",
        "\n",
        "#Plotting confusion matrix\n",
        "%matplotlib inline\n",
        "plt.figure (figsize=(7,5))\n",
        "sn.heatmap(cm, annot=True)\n",
        "plt.xlabel('Predicted')\n",
        "plt.ylabel('Aktual')"
      ],
      "metadata": {
        "colab": {
          "base_uri": "https://localhost:8080/",
          "height": 356
        },
        "id": "t5cz_CfAjtEs",
        "outputId": "47645c59-e7f6-4cf7-ec9a-6a3c025f7f27"
      },
      "execution_count": null,
      "outputs": [
        {
          "output_type": "execute_result",
          "data": {
            "text/plain": [
              "Text(42.0, 0.5, 'Aktual')"
            ]
          },
          "metadata": {},
          "execution_count": 139
        },
        {
          "output_type": "display_data",
          "data": {
            "text/plain": [
              "<Figure size 504x360 with 2 Axes>"
            ],
            "image/png": "[encoded data removed]"
          },
          "metadata": {
            "needs_background": "light"
          }
        }
      ]
    },
    {
      "cell_type": "markdown",
      "source": [
        "**Classification Report**"
      ],
      "metadata": {
        "id": "PNHZBSydlWF7"
      }
    },
    {
      "cell_type": "code",
      "source": [
        "from sklearn.metrics import classification_report\n",
        "print(classification_report(y_test, y_pred))"
      ],
      "metadata": {
        "colab": {
          "base_uri": "https://localhost:8080/"
        },
        "id": "p3WjA1Y1kYi3",
        "outputId": "bd9ac355-293e-48c8-e293-dcb2e8f2bb36"
      },
      "execution_count": null,
      "outputs": [
        {
          "output_type": "stream",
          "name": "stdout",
          "text": [
            "              precision    recall  f1-score   support\n",
            "\n",
            "         0.0       1.00      1.00      1.00         4\n",
            "         1.0       1.00      1.00      1.00         5\n",
            "\n",
            "    accuracy                           1.00         9\n",
            "   macro avg       1.00      1.00      1.00         9\n",
            "weighted avg       1.00      1.00      1.00         9\n",
            "\n"
          ]
        }
      ]
    }
  ]
}